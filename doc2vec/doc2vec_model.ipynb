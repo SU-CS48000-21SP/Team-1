{
  "cells": [
    {
      "cell_type": "code",
      "execution_count": 1,
      "metadata": {
        "colab": {
          "base_uri": "https://localhost:8080/"
        },
        "id": "J99e2PtUh4X-",
        "outputId": "566881a0-5d86-4c37-ffb5-355c35637efc"
      },
      "outputs": [
        {
          "name": "stderr",
          "output_type": "stream",
          "text": [
            "WARNING: Skipping gensim as it is not installed.\n"
          ]
        },
        {
          "name": "stdout",
          "output_type": "stream",
          "text": [
            "Collecting gensim==3.8.3\n",
            "  Downloading gensim-3.8.3.tar.gz (23.4 MB)\n",
            "Requirement already satisfied: numpy>=1.11.3 in c:\\users\\samil\\appdata\\local\\programs\\python\\python39\\lib\\site-packages (from gensim==3.8.3) (1.21.2)\n",
            "Collecting scipy>=0.18.1\n",
            "  Using cached scipy-1.8.0-cp39-cp39-win_amd64.whl (36.9 MB)\n",
            "Requirement already satisfied: six>=1.5.0 in c:\\users\\samil\\appdata\\local\\programs\\python\\python39\\lib\\site-packages (from gensim==3.8.3) (1.16.0)\n",
            "Collecting smart_open>=1.8.1\n",
            "  Downloading smart_open-6.0.0-py3-none-any.whl (58 kB)\n",
            "Using legacy 'setup.py install' for gensim, since package 'wheel' is not installed.\n",
            "Installing collected packages: smart-open, scipy, gensim\n",
            "    Running setup.py install for gensim: started\n",
            "    Running setup.py install for gensim: finished with status 'done'\n",
            "Successfully installed gensim-3.8.3 scipy-1.8.0 smart-open-6.0.0\n"
          ]
        },
        {
          "name": "stderr",
          "output_type": "stream",
          "text": [
            "    WARNING: Subprocess output does not appear to be encoded as cp1254\n",
            "    WARNING: Subprocess output does not appear to be encoded as cp1254\n",
            "    WARNING: Subprocess output does not appear to be encoded as cp1254\n",
            "    WARNING: Subprocess output does not appear to be encoded as cp1254\n",
            "    WARNING: Subprocess output does not appear to be encoded as cp1254\n",
            "    WARNING: Subprocess output does not appear to be encoded as cp1254\n",
            "    WARNING: Subprocess output does not appear to be encoded as cp1254\n",
            "    WARNING: Subprocess output does not appear to be encoded as cp1254\n",
            "    WARNING: Subprocess output does not appear to be encoded as cp1254\n",
            "    WARNING: Subprocess output does not appear to be encoded as cp1254\n",
            "    WARNING: Subprocess output does not appear to be encoded as cp1254\n",
            "    WARNING: Subprocess output does not appear to be encoded as cp1254\n",
            "    WARNING: Subprocess output does not appear to be encoded as cp1254\n",
            "    WARNING: Subprocess output does not appear to be encoded as cp1254\n",
            "    WARNING: Subprocess output does not appear to be encoded as cp1254\n",
            "    WARNING: Subprocess output does not appear to be encoded as cp1254\n",
            "    WARNING: Subprocess output does not appear to be encoded as cp1254\n",
            "    WARNING: Subprocess output does not appear to be encoded as cp1254\n",
            "    WARNING: Subprocess output does not appear to be encoded as cp1254\n",
            "    WARNING: Subprocess output does not appear to be encoded as cp1254\n",
            "    WARNING: Subprocess output does not appear to be encoded as cp1254\n",
            "    WARNING: Subprocess output does not appear to be encoded as cp1254\n",
            "    WARNING: Subprocess output does not appear to be encoded as cp1254\n",
            "    WARNING: Subprocess output does not appear to be encoded as cp1254\n",
            "    WARNING: Subprocess output does not appear to be encoded as cp1254\n",
            "    WARNING: Subprocess output does not appear to be encoded as cp1254\n",
            "    WARNING: Subprocess output does not appear to be encoded as cp1254\n",
            "    WARNING: Subprocess output does not appear to be encoded as cp1254\n",
            "    WARNING: Subprocess output does not appear to be encoded as cp1254\n",
            "    WARNING: Subprocess output does not appear to be encoded as cp1254\n",
            "    WARNING: Subprocess output does not appear to be encoded as cp1254\n",
            "    WARNING: Subprocess output does not appear to be encoded as cp1254\n",
            "    WARNING: Subprocess output does not appear to be encoded as cp1254\n",
            "    WARNING: Subprocess output does not appear to be encoded as cp1254\n",
            "    WARNING: Subprocess output does not appear to be encoded as cp1254\n",
            "    WARNING: Subprocess output does not appear to be encoded as cp1254\n",
            "    WARNING: Subprocess output does not appear to be encoded as cp1254\n",
            "    WARNING: Subprocess output does not appear to be encoded as cp1254\n",
            "    WARNING: Subprocess output does not appear to be encoded as cp1254\n",
            "    WARNING: Subprocess output does not appear to be encoded as cp1254\n",
            "    WARNING: Subprocess output does not appear to be encoded as cp1254\n",
            "    WARNING: Subprocess output does not appear to be encoded as cp1254\n",
            "    WARNING: Subprocess output does not appear to be encoded as cp1254\n",
            "    WARNING: Subprocess output does not appear to be encoded as cp1254\n",
            "    WARNING: Subprocess output does not appear to be encoded as cp1254\n",
            "    WARNING: Subprocess output does not appear to be encoded as cp1254\n",
            "    WARNING: Subprocess output does not appear to be encoded as cp1254\n",
            "    WARNING: Subprocess output does not appear to be encoded as cp1254\n",
            "    WARNING: Subprocess output does not appear to be encoded as cp1254\n",
            "    WARNING: Subprocess output does not appear to be encoded as cp1254\n",
            "    WARNING: Subprocess output does not appear to be encoded as cp1254\n",
            "    WARNING: Subprocess output does not appear to be encoded as cp1254\n",
            "    WARNING: Subprocess output does not appear to be encoded as cp1254\n",
            "    WARNING: Subprocess output does not appear to be encoded as cp1254\n",
            "WARNING: You are using pip version 21.0.1; however, version 22.0.4 is available.\n",
            "You should consider upgrading via the 'c:\\users\\samil\\appdata\\local\\programs\\python\\python39\\python.exe -m pip install --upgrade pip' command.\n"
          ]
        },
        {
          "name": "stdout",
          "output_type": "stream",
          "text": [
            "Requirement already satisfied: nltk in c:\\users\\samil\\appdata\\local\\programs\\python\\python39\\lib\\site-packages (3.7)\n",
            "Requirement already satisfied: joblib in c:\\users\\samil\\appdata\\local\\programs\\python\\python39\\lib\\site-packages (from nltk) (1.1.0)\n",
            "Requirement already satisfied: regex>=2021.8.3 in c:\\users\\samil\\appdata\\local\\programs\\python\\python39\\lib\\site-packages (from nltk) (2022.4.24)\n",
            "Requirement already satisfied: click in c:\\users\\samil\\appdata\\local\\programs\\python\\python39\\lib\\site-packages (from nltk) (8.1.2)\n",
            "Requirement already satisfied: tqdm in c:\\users\\samil\\appdata\\local\\programs\\python\\python39\\lib\\site-packages (from nltk) (4.64.0)\n",
            "Requirement already satisfied: colorama in c:\\users\\samil\\appdata\\local\\programs\\python\\python39\\lib\\site-packages (from click->nltk) (0.4.4)\n"
          ]
        },
        {
          "name": "stderr",
          "output_type": "stream",
          "text": [
            "WARNING: You are using pip version 21.0.1; however, version 22.0.4 is available.\n",
            "You should consider upgrading via the 'c:\\users\\samil\\appdata\\local\\programs\\python\\python39\\python.exe -m pip install --upgrade pip' command.\n"
          ]
        }
      ],
      "source": [
        "!pip uninstall gensim\n",
        "!pip install gensim==3.8.3\n",
        "!pip install nltk"
      ]
    },
    {
      "cell_type": "code",
      "execution_count": 2,
      "metadata": {
        "id": "sQmbfqk9h84w"
      },
      "outputs": [],
      "source": [
        "from nltk.tokenize import sent_tokenize, word_tokenize\n",
        "from gensim.test.utils import common_texts\n",
        "from gensim.models.doc2vec import Doc2Vec, TaggedDocument\n",
        "import gensim\n",
        "import numpy as np\n",
        "import pandas as pd\n",
        "\n",
        "%matplotlib notebook\n",
        "import matplotlib.pyplot as plt\n",
        "plt.style.use('ggplot')\n",
        "from sklearn.decomposition import PCA\n"
      ]
    },
    {
      "cell_type": "code",
      "execution_count": 3,
      "metadata": {
        "colab": {
          "base_uri": "https://localhost:8080/"
        },
        "id": "oe6pjnzHiZxY",
        "outputId": "0c975805-d4d8-43f1-90d6-c900a54c0956"
      },
      "outputs": [
        {
          "name": "stdout",
          "output_type": "stream",
          "text": [
            "Requirement already satisfied: pickle5 in /usr/local/lib/python3.7/dist-packages (0.0.12)\n"
          ]
        }
      ],
      "source": [
        "!pip3 install pickle5\n",
        "import pickle5 as pickle"
      ]
    },
    {
      "cell_type": "code",
      "execution_count": 4,
      "metadata": {
        "colab": {
          "base_uri": "https://localhost:8080/"
        },
        "id": "F0IsSDJNiGTp",
        "outputId": "3bac14f4-e723-4ba2-f70e-1da7e3501100"
      },
      "outputs": [
        {
          "name": "stdout",
          "output_type": "stream",
          "text": [
            "Drive already mounted at /content/drive; to attempt to forcibly remount, call drive.mount(\"/content/drive\", force_remount=True).\n"
          ]
        }
      ],
      "source": [
        "from google.colab import drive\n",
        "drive.mount('/content/drive')\n",
        "\n",
        "DATA_PATH = '/content/drive/MyDrive/CS48000-DesignPatterns'"
      ]
    },
    {
      "cell_type": "code",
      "execution_count": 6,
      "metadata": {
        "id": "KNbtKW9ViWGf"
      },
      "outputs": [],
      "source": [
        "infile = open(DATA_PATH+'/bugfixes_valid.pickle','rb')\n",
        "df = pickle.load(infile)"
      ]
    },
    {
      "cell_type": "code",
      "execution_count": 7,
      "metadata": {
        "id": "WOZIwlv6Yd12"
      },
      "outputs": [],
      "source": [
        "import smart_open\n",
        "\n",
        "def read_corpus(fname, tokens_only=False):\n",
        "        for i, line in enumerate(fname):\n",
        "            tokens = gensim.utils.simple_preprocess(line)\n",
        "            if tokens_only:\n",
        "                yield tokens\n",
        "            else:\n",
        "                # For training data, add tags\n",
        "                yield gensim.models.doc2vec.TaggedDocument(tokens, [i])"
      ]
    },
    {
      "cell_type": "code",
      "execution_count": 20,
      "metadata": {
        "id": "-eoGg-l7gXYs"
      },
      "outputs": [],
      "source": [
        "from sklearn.model_selection import train_test_split\n",
        "train, test = train_test_split(df['full_traceback'], test_size=0.2, random_state=0)"
      ]
    },
    {
      "cell_type": "code",
      "execution_count": 21,
      "metadata": {
        "id": "yIh1D59EYg7t"
      },
      "outputs": [],
      "source": [
        "train_corpus = list(read_corpus(train))"
      ]
    },
    {
      "cell_type": "code",
      "execution_count": 22,
      "metadata": {
        "colab": {
          "base_uri": "https://localhost:8080/"
        },
        "id": "U31tPU9KZPH0",
        "outputId": "bc07679b-3021-4193-bb98-45bb409f4f7a"
      },
      "outputs": [
        {
          "data": {
            "text/plain": [
              "[TaggedDocument(words=['the', 'full', 'traceback', 'is', 'traceback', 'most', 'recent', 'call', 'last', 'file', 'tmp', 'ansible_jmc', 'py', 'line', 'in', 'module', 'main', 'file', 'tmp', 'ansible_jmc', 'py', 'line', 'in', 'main', 'check_mode', 'module', 'check_mode', 'file', 'tmp', 'ansible_jmc', 'py', 'line', 'in', 'subnet', 'create_subnet', 'conn', 'module', 'vpc_id', 'cidr', 'az', 'check_mode', 'file', 'tmp', 'ansible_jmc', 'py', 'line', 'in', 'create_subnet', 'new_subnet', 'get_subnet_info', 'conn', 'create_subnet', 'vpcid', 'vpc_id', 'cidrblock', 'cidr', 'az', 'file', 'usr', 'local', 'lib', 'python', 'dist', 'packages', 'botocore', 'client', 'py', 'line', 'in', 'return', 'self', 'operation_name', 'kwargs', 'file', 'usr', 'local', 'lib', 'python', 'dist', 'packages', 'botocore', 'client', 'py', 'line', 'in', 'api_params', 'operation_model', 'context', 'request_context', 'file', 'usr', 'local', 'lib', 'python', 'dist', 'packages', 'botocore', 'client', 'py', 'line', 'in', 'api_params', 'operation_model', 'file', 'usr', 'local', 'lib', 'python', 'dist', 'packages', 'botocore', 'validate', 'py', 'line', 'in', 'raise', 'report', 'report', 'generate_report', 'botocore', 'exceptions', 'parameter', 'validation', 'failed', 'invalid', 'type', 'for', 'parameter', 'value', 'none', 'type', 'type', 'nonetype', 'valid', 'types', 'type', 'basestring', 'failed', 'localhost', 'item', 'changed', 'false', 'failed', 'true', 'item', 'module_stderr', 'traceback', 'most', 'recent', 'call', 'last', 'file', 'tmp', 'ansible_jmc', 'py', 'line', 'in', 'module', 'main', 'file', 'tmp', 'ansible_jmc', 'py', 'line', 'in', 'main', 'check_mode', 'module', 'check_mode', 'file', 'tmp', 'ansible_jmc', 'py', 'line', 'in', 'subnet', 'create_subnet', 'conn', 'module', 'vpc_id', 'cidr', 'az', 'check_mode', 'file', 'tmp', 'ansible_jmc', 'py', 'line', 'in', 'create_subnet', 'new_subnet', 'get_subnet_info', 'conn', 'create_subnet', 'vpcid', 'vpc_id', 'cidrblock', 'cidr', 'az', 'file', 'usr', 'local', 'lib', 'python', 'dist', 'packages', 'botocore', 'client', 'py', 'line', 'in', 'return', 'self', 'operation_name', 'kwargs', 'file', 'usr', 'local', 'lib', 'python', 'dist', 'packages', 'botocore', 'client', 'py', 'line', 'in', 'api_params', 'operation_model', 'context', 'request_context', 'file', 'usr', 'local', 'lib', 'python', 'dist', 'packages', 'botocore', 'client', 'py', 'line', 'in', 'api_params', 'operation_model', 'file', 'usr', 'local', 'lib', 'python', 'dist', 'packages', 'botocore', 'validate', 'py', 'line', 'in', 'raise', 'report', 'report', 'generate_report', 'nbotocore', 'exceptions', 'parameter', 'validation', 'failed', 'ninvalid', 'type', 'for', 'parameter', 'value', 'none', 'type', 'type', 'nonetype', 'valid', 'types', 'type', 'basestring', 'module_stdout', 'msg', 'module', 'failure', 'rc'], tags=[0]),\n",
              " TaggedDocument(words=['os', 'environment', 'gentoo', 'gnu', 'linux', 'fedora', 'gnu', 'linux', 'steps', 'to', 'reproduce', 'use', 'this', 'playbook', 'user', 'password', 'and', 'baseuri', 'should', 'be', 'set', 'to', 'redfish', 'api', 'credentials', 'and', 'endpoint', 'hosts', 'localhost', 'gather_facts', 'false', 'vars', 'baseuri', 'user', 'test', 'password', 'test', 'tasks', 'name', 'get', 'all', 'information', 'available', 'in', 'all', 'categories', 'redfish_facts', 'category', 'all', 'command', 'all', 'baseuri', 'baseuri', 'user', 'user', 'password', 'password', 'expected', 'results', 'facts', 'about', 'redfish', 'service', 'are', 'gathered', 'and', 'stored', 'for', 'later', 'use', 'actual', 'results', 'task', 'failed', 'during', 'execution', 'ansible', 'playbook', 'post', 'config', 'file', 'none', 'configured', 'module', 'search', 'path', 'home', 'tadej', 'ansible', 'plugins', 'modules', 'usr', 'share', 'ansible', 'plugins', 'modules', 'ansible', 'python', 'module', 'location', 'home', 'tadej', 'xlab', 'ansible', 'ansible', 'venv', 'lib', 'python', 'site', 'packages', 'ansible', 'executable', 'location', 'home', 'tadej', 'xlab', 'ansible', 'ansible', 'venv', 'bin', 'ansible', 'playbook', 'python', 'version', 'default', 'jul', 'gcc', 'no', 'config', 'file', 'found', 'using', 'defaults', 'setting', 'up', 'inventory', 'plugins', 'warning', 'unable', 'to', 'parse', 'etc', 'ansible', 'hosts', 'as', 'an', 'inventory', 'source', 'warning', 'no', 'inventory', 'was', 'parsed', 'only', 'implicit', 'localhost', 'is', 'available', 'warning', 'provided', 'hosts', 'list', 'is', 'empty', 'only', 'localhost', 'is', 'available', 'note', 'that', 'the', 'implicit', 'localhost', 'does', 'not', 'match', 'all', 'loading', 'callback', 'plugin', 'default', 'of', 'type', 'stdout', 'from', 'home', 'tadej', 'xlab', 'ansible', 'ansible', 'venv', 'lib', 'python', 'site', 'packages', 'ansible', 'plugins', 'callback', 'default', 'pyc', 'playbook', 'facts', 'yml', 'plays', 'in', 'facts', 'yml', 'play', 'localhost', 'meta', 'ran', 'handlers', 'task', 'get', 'all', 'information', 'available', 'in', 'all', 'categories', 'task', 'path', 'home', 'tadej', 'xlab', 'wwt', 'ansible', 'playbooks', 'redfish', 'ansible', 'tests', 'facts', 'yml', 'establish', 'local', 'connection', 'for', 'user', 'tadej', 'exec', 'bin', 'sh', 'echo', 'tadej', 'amp', 'amp', 'sleep', 'exec', 'bin', 'sh', 'umask', 'amp', 'amp', 'mkdir', 'echo', 'home', 'tadej', 'ansible', 'tmp', 'ansible', 'tmp', 'amp', 'amp', 'echo', 'ansible', 'tmp', 'echo', 'home', 'tadej', 'ansible', 'tmp', 'ansible', 'tmp', 'amp', 'amp', 'sleep', 'using', 'module', 'file', 'home', 'tadej', 'xlab', 'ansible', 'ansible', 'venv', 'lib', 'python', 'site', 'packages', 'ansible', 'modules', 'redfish', 'redfish_facts', 'py', 'put', 'home', 'tadej', 'ansible', 'tmp', 'ansible', 'local', 'qiujeu', 'tmped', 'mgl', 'to', 'home', 'tadej', 'ansible', 'tmp', 'ansible', 'tmp', 'py', 'exec', 'bin', 'sh', 'chmod', 'home', 'tadej', 'ansible', 'tmp', 'ansible', 'tmp', 'home', 'tadej', 'ansible', 'tmp', 'ansible', 'tmp', 'py', 'amp', 'amp', 'sleep', 'exec', 'bin', 'sh', 'home', 'tadej', 'xlab', 'ansible', 'ansible', 'venv', 'bin', 'python', 'home', 'tadej', 'ansible', 'tmp', 'ansible', 'tmp', 'py', 'amp', 'amp', 'sleep', 'exec', 'bin', 'sh', 'rm', 'home', 'tadej', 'ansible', 'tmp', 'ansible', 'tmp', 'dev', 'null', 'amp', 'amp', 'amp', 'sleep', 'the', 'full', 'traceback', 'is', 'traceback', 'most', 'recent', 'call', 'last', 'file', 'home', 'tadej', 'ansible', 'tmp', 'ansible', 'tmp', 'py', 'line', 'in', 'module', 'file', 'home', 'tadej', 'ansible', 'tmp', 'ansible', 'tmp', 'py', 'line', 'in', 'invoke_module', 'zipped_mod', 'temp_path', 'file', 'home', 'tadej', 'ansible', 'tmp', 'ansible', 'tmp', 'py', 'line', 'in', 'invoke_module', 'imp', 'load_module', 'mod', 'module', 'mod_desc', 'file', 'tmp', 'py', 'line', 'in', 'module', 'file', 'tmp', 'py', 'line', 'in', 'main', 'file', 'tmp', 'zip', 'ansible', 'module_utils', 'redfish_utils', 'py', 'line', 'in', 'keyerror', 'model', 'fatal', 'localhost', 'failed', 'changed', 'false', 'module_stderr', 'traceback', 'most', 'recent', 'call', 'last', 'file', 'home', 'tadej', 'ansible', 'tmp', 'ansible', 'tmp', 'py', 'line', 'in', 'module', 'file', 'home', 'tadej', 'ansible', 'tmp', 'ansible', 'tmp', 'py', 'line', 'in', 'invoke_module', 'zipped_mod', 'temp_path', 'file', 'home', 'tadej', 'ansible', 'tmp', 'ansible', 'tmp', 'py', 'line', 'in', 'invoke_module', 'imp', 'load_module', 'mod', 'module', 'mod_desc', 'file', 'tmp', 'py', 'line', 'in', 'module', 'file', 'tmp', 'py', 'line', 'in', 'main', 'file', 'tmp', 'zip', 'ansible', 'module_utils', 'redfish_utils', 'py', 'line', 'in', 'nkeyerror', 'model', 'module_stdout', 'msg', 'module', 'failure', 'nsee', 'stdout', 'stderr', 'for', 'the', 'exact', 'error', 'rc', 'to', 'retry', 'use', 'limit', 'home', 'tadej', 'xlab', 'wwt', 'ansible', 'playbooks', 'redfish', 'ansible', 'tests', 'facts', 'retry', 'play', 'recap', 'localhost', 'ok', 'changed', 'unreachable', 'failed'], tags=[1])]"
            ]
          },
          "execution_count": 22,
          "metadata": {},
          "output_type": "execute_result"
        }
      ],
      "source": [
        "train_corpus[:2]"
      ]
    },
    {
      "cell_type": "code",
      "execution_count": 38,
      "metadata": {
        "id": "F-pjizLDlSAd"
      },
      "outputs": [],
      "source": [
        "test_corpus = list(read_corpus(test))"
      ]
    },
    {
      "cell_type": "code",
      "execution_count": 23,
      "metadata": {
        "id": "CashjzQdZZnl"
      },
      "outputs": [],
      "source": [
        "model = gensim.models.doc2vec.Doc2Vec(vector_size=50, min_count=2, epochs=40)"
      ]
    },
    {
      "cell_type": "code",
      "execution_count": 24,
      "metadata": {
        "id": "wbZNtFV-Zr-u"
      },
      "outputs": [],
      "source": [
        "model.build_vocab(train_corpus)"
      ]
    },
    {
      "cell_type": "code",
      "execution_count": 26,
      "metadata": {
        "id": "srIODAwpZ4CT"
      },
      "outputs": [],
      "source": [
        "model.train(train_corpus, total_examples=model.corpus_count, epochs=model.epochs)"
      ]
    },
    {
      "cell_type": "code",
      "execution_count": 27,
      "metadata": {
        "id": "07T5sUmjavrK"
      },
      "outputs": [],
      "source": [
        "ranks = []\n",
        "second_ranks = []\n",
        "for doc_id in range(len(train_corpus)):\n",
        "    inferred_vector = model.infer_vector(train_corpus[doc_id].words)\n",
        "    sims = model.docvecs.most_similar([inferred_vector], topn=len(model.docvecs))\n",
        "    rank = [docid for docid, sim in sims].index(doc_id)\n",
        "    ranks.append(rank)\n",
        "\n",
        "    second_ranks.append(sims[1])"
      ]
    },
    {
      "cell_type": "code",
      "execution_count": 28,
      "metadata": {
        "colab": {
          "base_uri": "https://localhost:8080/"
        },
        "id": "sOOkKv4CcXAb",
        "outputId": "44cc207e-baf2-4735-a425-a63030384981"
      },
      "outputs": [
        {
          "name": "stdout",
          "output_type": "stream",
          "text": [
            "Counter({0: 2944, 1: 1207, 2: 644, 3: 369, 4: 259, 5: 211, 6: 185, 7: 146, 8: 107, 9: 90, 10: 79, 11: 71, 12: 63, 13: 57, 16: 44, 15: 39, 22: 34, 17: 34, 21: 33, 20: 32, 14: 32, 19: 32, 18: 21, 26: 17, 27: 17, 31: 16, 32: 16, 34: 16, 60: 14, 28: 14, 38: 14, 29: 14, 23: 13, 25: 13, 47: 13, 30: 13, 33: 12, 48: 12, 50: 11, 53: 11, 40: 11, 46: 11, 44: 11, 71: 11, 54: 10, 55: 10, 24: 10, 82: 10, 58: 9, 37: 9, 62: 9, 57: 9, 35: 9, 76: 9, 41: 9, 36: 9, 43: 9, 120: 8, 94: 8, 49: 7, 67: 7, 42: 7, 134: 7, 80: 7, 84: 7, 66: 7, 45: 7, 64: 7, 56: 7, 70: 7, 39: 6, 91: 6, 73: 6, 86: 6, 59: 6, 83: 6, 92: 6, 96: 6, 90: 5, 85: 5, 77: 5, 101: 5, 63: 5, 52: 5, 107: 5, 106: 5, 88: 4, 108: 4, 105: 4, 100: 4, 87: 4, 118: 4, 102: 4, 74: 4, 128: 4, 110: 4, 79: 4, 75: 4, 121: 4, 115: 4, 113: 4, 95: 4, 97: 4, 116: 4, 61: 4, 125: 4, 81: 4, 78: 4, 72: 3, 69: 3, 51: 3, 103: 3, 109: 3, 240: 3, 165: 3, 138: 3, 167: 3, 119: 3, 65: 3, 164: 3, 122: 3, 183: 3, 141: 3, 114: 2, 161: 2, 185: 2, 187: 2, 89: 2, 205: 2, 200: 2, 227: 2, 180: 2, 151: 2, 156: 2, 123: 2, 139: 2, 117: 2, 98: 2, 201: 2, 144: 2, 104: 2, 179: 2, 182: 2, 93: 2, 124: 2, 133: 2, 170: 2, 112: 2, 155: 2, 126: 2, 132: 1, 248: 1, 217: 1, 228: 1, 208: 1, 251: 1, 137: 1, 210: 1, 150: 1, 195: 1, 152: 1, 131: 1, 193: 1, 166: 1, 153: 1, 256: 1, 146: 1, 398: 1, 194: 1, 111: 1, 136: 1, 211: 1, 177: 1, 199: 1, 233: 1, 99: 1, 215: 1, 162: 1, 135: 1, 202: 1, 178: 1, 158: 1, 142: 1, 176: 1, 163: 1, 148: 1, 147: 1, 214: 1, 255: 1, 191: 1, 229: 1, 149: 1, 145: 1, 209: 1, 212: 1, 238: 1, 175: 1, 206: 1, 295: 1, 160: 1, 159: 1, 271: 1, 157: 1, 127: 1, 241: 1, 68: 1, 244: 1, 190: 1, 239: 1, 196: 1, 173: 1, 130: 1, 169: 1})\n"
          ]
        }
      ],
      "source": [
        "import collections\n",
        "\n",
        "counter = collections.Counter(ranks)\n",
        "print(counter)"
      ]
    },
    {
      "cell_type": "code",
      "execution_count": 29,
      "metadata": {
        "colab": {
          "base_uri": "https://localhost:8080/"
        },
        "id": "_6SCEHUscd90",
        "outputId": "88811c25-ab47-47d5-ddc9-d6fb7f5f691c"
      },
      "outputs": [
        {
          "name": "stdout",
          "output_type": "stream",
          "text": [
            "Document (7564): «error red exception in command cog update traceback most recent call last file coding redenv lib site packages discord ext commands core py line in wrapped ret await coro args kwargs file coding redenv lib site packages redbot cogs downloader downloader py line in await self ctx cogs cogs file coding redenv lib site packages redbot cogs downloader downloader py line in message await self file coding redenv lib site packages redbot cogs downloader downloader py line in failed_reqs await self cogs_to_update file coding redenv lib site packages redbot cogs downloader downloader py line in if not await repo req self lib_path file coding redenv lib site packages redbot cogs downloader repo_manager py line in await self file coding redenv lib site packages redbot cogs downloader repo_manager py line in stderr stderr decode strip utf codec can decode byte xc in position invalid continuation byte»\n",
            "\n",
            "SIMILAR/DISSIMILAR DOCS PER MODEL Doc2Vec(dm/m,d50,n5,w5,mc2,s0.001,t3):\n",
            "\n",
            "MOST (7564, 0.9340952038764954): «error red exception in command cog update traceback most recent call last file coding redenv lib site packages discord ext commands core py line in wrapped ret await coro args kwargs file coding redenv lib site packages redbot cogs downloader downloader py line in await self ctx cogs cogs file coding redenv lib site packages redbot cogs downloader downloader py line in message await self file coding redenv lib site packages redbot cogs downloader downloader py line in failed_reqs await self cogs_to_update file coding redenv lib site packages redbot cogs downloader downloader py line in if not await repo req self lib_path file coding redenv lib site packages redbot cogs downloader repo_manager py line in await self file coding redenv lib site packages redbot cogs downloader repo_manager py line in stderr stderr decode strip utf codec can decode byte xc in position invalid continuation byte»\n",
            "\n",
            "SECOND-MOST (1293, 0.9333688616752625): «error red exception in command cog update traceback most recent call last file coding redenv lib site packages discord ext commands core py line in wrapped ret await coro args kwargs file coding redenv lib site packages redbot cogs downloader downloader py line in await self ctx cogs cogs file coding redenv lib site packages redbot cogs downloader downloader py line in message await self file coding redenv lib site packages redbot cogs downloader downloader py line in failed_reqs await self cogs_to_update file coding redenv lib site packages redbot cogs downloader downloader py line in if not await repo req self lib_path file coding redenv lib site packages redbot cogs downloader repo_manager py line in await self file coding redenv lib site packages redbot cogs downloader repo_manager py line in stderr stderr decode strip utf codec can decode byte xc in position invalid continuation byte»\n",
            "\n",
            "THIRD-MOST (534, 0.9329325556755066): «error red exception in command cog update traceback most recent call last file coding redenv lib site packages discord ext commands core py line in wrapped ret await coro args kwargs file coding redenv lib site packages redbot cogs downloader downloader py line in await self ctx cogs cogs file coding redenv lib site packages redbot cogs downloader downloader py line in message await self file coding redenv lib site packages redbot cogs downloader downloader py line in failed_reqs await self cogs_to_update file coding redenv lib site packages redbot cogs downloader downloader py line in if not await repo req self lib_path file coding redenv lib site packages redbot cogs downloader repo_manager py line in await self file coding redenv lib site packages redbot cogs downloader repo_manager py line in stderr stderr decode strip utf codec can decode byte xc in position invalid continuation byte»\n",
            "\n",
            "MEDIAN (2014, 0.47787198424339294): «logging error traceback most recent call last file usr lib python logging handlers py line in emit self send file usr lib python logging handlers py line in send self sock sendto self address typeerror bytes like object is required not str»\n",
            "\n",
            "LEAST (6359, -0.02811027504503727): «opt dev_intelmq contrib py opt intelmq var lib bots modify malware family names conf traceback most recent call last file contrib py line in module params zip args expression args identifier typeerror zip argument must support iteration root intelmq opt dev_intelmq»\n",
            "\n"
          ]
        }
      ],
      "source": [
        "print('Document ({}): «{}»\\n'.format(doc_id, ' '.join(train_corpus[doc_id].words)))\n",
        "print(u'SIMILAR/DISSIMILAR DOCS PER MODEL %s:\\n' % model)\n",
        "for label, index in [('MOST', 0), ('SECOND-MOST', 1), ('THIRD-MOST', 2),  ('MEDIAN', len(sims)//2), ('LEAST', len(sims) - 1)]:\n",
        "    print(u'%s %s: «%s»\\n' % (label, sims[index], ' '.join(train_corpus[sims[index][0]].words)))"
      ]
    },
    {
      "cell_type": "code",
      "execution_count": 47,
      "metadata": {
        "colab": {
          "base_uri": "https://localhost:8080/"
        },
        "id": "DVEJQHT9cq6o",
        "outputId": "319dda32-ed38-473a-c087-9017a3550a6a"
      },
      "outputs": [
        {
          "name": "stdout",
          "output_type": "stream",
          "text": [
            "Test Document (1278): «traceback most recent call last file stdin line in module file pydicom pydicom dataset py line in update for key value in list dictionary items file pydicom pydicom dataset py line in return super dataset self name attributeerror dataset object has no attribute items»\n",
            "\n",
            "SIMILAR/DISSIMILAR DOCS PER MODEL Doc2Vec(dm/m,d50,n5,w5,mc2,s0.001,t3):\n",
            "\n",
            "MOST (2473, 0.950778603553772): «error tribler_window root traceback most recent call last file users goqs documents tribler triblergui widgets py line in if len results subscribed typeerror nonetype object has no attribute»\n",
            "\n",
            "MEDIAN (1155, 0.5737566947937012): «freqtrade persistence info updating trade id freqtrade error fatal exception traceback most recent call last file freqtrade freqtrade main py line in main state freqtrade worker old_state state file freqtrade freqtrade freqtradebot py line in worker min_secs min_secs file freqtrade freqtrade freqtradebot py line in result func args kwargs file freqtrade freqtrade freqtradebot py line in state_changed self trade file freqtrade freqtrade freqtradebot py line in trade update order file freqtrade freqtrade persistence py line in update raise valueerror unknown order type order_type valueerror unknown order type market»\n",
            "\n",
            "LEAST (6359, 0.09656362235546112): «opt dev_intelmq contrib py opt intelmq var lib bots modify malware family names conf traceback most recent call last file contrib py line in module params zip args expression args identifier typeerror zip argument must support iteration root intelmq opt dev_intelmq»\n",
            "\n"
          ]
        }
      ],
      "source": [
        "\n",
        "import random\n",
        "# Pick a random document from the test corpus and infer a vector from the model\n",
        "doc_id = random.randint(0, len(test_corpus) - 1)\n",
        "inferred_vector = model.infer_vector(list(test_corpus[doc_id][0]))\n",
        "sims = model.docvecs.most_similar([inferred_vector], topn=len(model.docvecs))\n",
        "\n",
        "# Compare and print the most/median/least similar documents from the train corpus\n",
        "print('Test Document ({}): «{}»\\n'.format(doc_id, ' '.join(list(test_corpus[doc_id][0]))))\n",
        "print(u'SIMILAR/DISSIMILAR DOCS PER MODEL %s:\\n' % model)\n",
        "for label, index in [('MOST', 0), ('MEDIAN', len(sims)//2), ('LEAST', len(sims) - 1)]:\n",
        "    print(u'%s %s: «%s»\\n' % (label, sims[index], ' '.join(train_corpus[sims[index][0]].words)))"
      ]
    },
    {
      "cell_type": "code",
      "execution_count": null,
      "metadata": {
        "id": "pffSrcuhw6Np"
      },
      "outputs": [],
      "source": [
        "# http://csmoon-ml.com/index.php/2019/02/15/tutorial-doc2vec-and-t-sne/\n",
        "# https://radimrehurek.com/gensim/auto_examples/tutorials/run_doc2vec_lee.html"
      ]
    }
  ],
  "metadata": {
    "colab": {
      "name": "doc2vec_model.ipynb",
      "provenance": []
    },
    "interpreter": {
      "hash": "8c70f4aa3554aaaed3cc5c8d2c85b14440771e0fc6a8628f9c5a060182147ecf"
    },
    "kernelspec": {
      "display_name": "Python 3.9.2 64-bit",
      "language": "python",
      "name": "python3"
    },
    "language_info": {
      "codemirror_mode": {
        "name": "ipython",
        "version": 3
      },
      "file_extension": ".py",
      "mimetype": "text/x-python",
      "name": "python",
      "nbconvert_exporter": "python",
      "pygments_lexer": "ipython3",
      "version": "3.9.2"
    }
  },
  "nbformat": 4,
  "nbformat_minor": 0
}
