{
  "nbformat": 4,
  "nbformat_minor": 0,
  "metadata": {
    "colab": {
      "name": "stackAPI",
      "provenance": []
    },
    "kernelspec": {
      "name": "python3",
      "display_name": "Python 3"
    },
    "language_info": {
      "name": "python"
    }
  },
  "cells": [
    {
      "cell_type": "code",
      "execution_count": 3,
      "metadata": {
        "colab": {
          "base_uri": "https://localhost:8080/"
        },
        "id": "RKNS6ETgB6jd",
        "outputId": "9a0c86c8-5ccc-49d5-94d3-5bcb4f840578"
      },
      "outputs": [
        {
          "output_type": "stream",
          "name": "stdout",
          "text": [
            "50\n",
            "Question :- How to iterate through non-zeros values of an image ? - Python\n",
            "Question ID :- 71926085\n",
            "Accepted Answer ID :- 71926133\n",
            "\n",
            "----------------------------------------------------------------\n",
            "\n",
            "Question :- How to make a &quot;Value Decrease Occurrences&quot; constraint on Google Or-Tools SCIP? - Python\n",
            "Question ID :- 71829983\n",
            "\n",
            "----------------------------------------------------------------\n",
            "\n",
            "Question :- Docker error : MySQLdb._exceptions.OperationalError: (2002, &quot;Can&#39;t connect to local MySQL server through socket &#39;/var/run/mysqld/mysqld.sock&#39; (2)&quot;)\n",
            "Question ID :- 71926501\n",
            "\n",
            "----------------------------------------------------------------\n",
            "\n",
            "Question :- append values in for loop R as in python\n",
            "Question ID :- 32156278\n",
            "Accepted Answer ID :- 32156294\n",
            "\n",
            "----------------------------------------------------------------\n",
            "\n",
            "Question :- Can&#39;t convert cuda:0 device type tensor to numpy. Use Tensor.cpu() to copy the tensor to host memory first\n",
            "Question ID :- 66752458\n",
            "Accepted Answer ID :- 66754525\n",
            "\n",
            "----------------------------------------------------------------\n",
            "\n",
            "Question :- I can&#39;t run pipenv install django\n",
            "Question ID :- 71103384\n",
            "Accepted Answer ID :- 71110405\n",
            "\n",
            "----------------------------------------------------------------\n",
            "\n",
            "Question :- Compare column name with a row value and getting other row value\n",
            "Question ID :- 71874683\n",
            "Accepted Answer ID :- 71926620\n",
            "\n",
            "----------------------------------------------------------------\n",
            "\n",
            "Question :- How to scrape sofifa website positions. Text inside of span beautiful soup\n",
            "Question ID :- 68896543\n",
            "Accepted Answer ID :- 68896923\n",
            "\n",
            "----------------------------------------------------------------\n",
            "\n",
            "Question :- How to use nn.TransTransformerEncoder from pytorch\n",
            "Question ID :- 70566705\n",
            "Accepted Answer ID :- 70567099\n",
            "\n",
            "----------------------------------------------------------------\n",
            "\n",
            "Question :- How to iterate through non-zeros values of an image ? - Python\n",
            "Question ID :- 71926085\n",
            "Accepted Answer ID :- 71926133\n",
            "\n",
            "----------------------------------------------------------------\n",
            "\n",
            "Question :- Reindex existing Dataframe using IntervalIndex.from_breaks in Pandas\n",
            "Question ID :- 71926469\n",
            "\n",
            "----------------------------------------------------------------\n",
            "\n",
            "Question :- Classify DataFrame rows based on the 3 most recent columns\n",
            "Question ID :- 71926392\n",
            "\n",
            "----------------------------------------------------------------\n",
            "\n",
            "Question :- How to generate a sphere in 3D Numpy array\n",
            "Question ID :- 46626267\n",
            "\n",
            "----------------------------------------------------------------\n",
            "\n",
            "Question :- ModuleNotFoundError: No module named &#39;PySide6&#39; in Python using Visual Studio Code\n",
            "Question ID :- 71903771\n",
            "\n",
            "----------------------------------------------------------------\n",
            "\n",
            "Question :- How to extract a substring from a string?\n",
            "Question ID :- 71873990\n",
            "\n",
            "----------------------------------------------------------------\n",
            "\n",
            "Question :- xlrd excel sheet read error &quot;open_workbook() got an unexpected keyword argument &#39;on_demand&#39;&quot;&quot;\n",
            "Question ID :- 16290745\n",
            "Accepted Answer ID :- 16309272\n",
            "\n",
            "----------------------------------------------------------------\n",
            "\n"
          ]
        }
      ],
      "source": [
        "from stackapi import StackAPI\n",
        "SITE = StackAPI('stackoverflow')\n",
        "SITE.max_pages=2\n",
        "SITE.page_size=25\n",
        "questions = SITE.fetch('questions',order='desc',tagged='python',site='stackoverflow')\n",
        "\n",
        "print(len(questions['items']))\n",
        "\n",
        "for quest in questions['items']:\n",
        "    if 'title' not in quest or quest['is_answered'] == False:\n",
        "        continue\n",
        "    title = quest['title'] \n",
        "    print('Question :- {0}'.format(title))\n",
        "    question_id = quest['question_id']\n",
        "    print('Question ID :- {0}'.format(question_id))\n",
        "    top_answer = SITE.fetch('questions/' + str(question_id) + '/answers', order = 'desc', sort='votes')\n",
        "    if 'accepted_answer_id' in quest.keys():\n",
        "      accepted_answer_id = quest['accepted_answer_id']\n",
        "      print('Accepted Answer ID :- {0}'.format(accepted_answer_id))\n",
        "    print(\"\\n----------------------------------------------------------------\\n\")"
      ]
    },
    {
      "cell_type": "code",
      "source": [
        "!pip install stackapi"
      ],
      "metadata": {
        "colab": {
          "base_uri": "https://localhost:8080/"
        },
        "id": "JVWA-mp-RGWJ",
        "outputId": "14351eee-c4f4-42b7-d65d-43cc4120263a"
      },
      "execution_count": 2,
      "outputs": [
        {
          "output_type": "stream",
          "name": "stdout",
          "text": [
            "Collecting stackapi\n",
            "  Downloading StackAPI-0.2.0.tar.gz (5.6 kB)\n",
            "Requirement already satisfied: requests in /usr/local/lib/python3.7/dist-packages (from stackapi) (2.23.0)\n",
            "Requirement already satisfied: six in /usr/local/lib/python3.7/dist-packages (from stackapi) (1.15.0)\n",
            "Requirement already satisfied: idna<3,>=2.5 in /usr/local/lib/python3.7/dist-packages (from requests->stackapi) (2.10)\n",
            "Requirement already satisfied: urllib3!=1.25.0,!=1.25.1,<1.26,>=1.21.1 in /usr/local/lib/python3.7/dist-packages (from requests->stackapi) (1.24.3)\n",
            "Requirement already satisfied: certifi>=2017.4.17 in /usr/local/lib/python3.7/dist-packages (from requests->stackapi) (2021.10.8)\n",
            "Requirement already satisfied: chardet<4,>=3.0.2 in /usr/local/lib/python3.7/dist-packages (from requests->stackapi) (3.0.4)\n",
            "Building wheels for collected packages: stackapi\n",
            "  Building wheel for stackapi (setup.py) ... \u001b[?25l\u001b[?25hdone\n",
            "  Created wheel for stackapi: filename=StackAPI-0.2.0-py3-none-any.whl size=5858 sha256=4732405b46629b0021ae89355c6bd21da053708fc7ed0ca89de377acb1f529ec\n",
            "  Stored in directory: /root/.cache/pip/wheels/ec/db/60/df42a65853e3581c26a2fbb2012a228cb8e267369a3b9ca44d\n",
            "Successfully built stackapi\n",
            "Installing collected packages: stackapi\n",
            "Successfully installed stackapi-0.2.0\n"
          ]
        }
      ]
    },
    {
      "cell_type": "code",
      "source": [
        "from stackapi import StackAPI\n",
        "SITE = StackAPI('stackoverflow')\n",
        "auth = SITE.fetch('oauth',client_id=23307,scope='no_expiry',redirect_uri='stackoverflow')"
      ],
      "metadata": {
        "colab": {
          "base_uri": "https://localhost:8080/",
          "height": 357
        },
        "id": "pEs74x1qQFwY",
        "outputId": "e5f8146c-76ac-404d-a893-736fdec97bb6"
      },
      "execution_count": 4,
      "outputs": [
        {
          "output_type": "error",
          "ename": "StackAPIError",
          "evalue": "ignored",
          "traceback": [
            "\u001b[0;31m---------------------------------------------------------------------------\u001b[0m",
            "\u001b[0;31mStackAPIError\u001b[0m                             Traceback (most recent call last)",
            "\u001b[0;32m<ipython-input-4-c209eca20ed1>\u001b[0m in \u001b[0;36m<module>\u001b[0;34m()\u001b[0m\n\u001b[1;32m      1\u001b[0m \u001b[0;32mfrom\u001b[0m \u001b[0mstackapi\u001b[0m \u001b[0;32mimport\u001b[0m \u001b[0mStackAPI\u001b[0m\u001b[0;34m\u001b[0m\u001b[0;34m\u001b[0m\u001b[0m\n\u001b[1;32m      2\u001b[0m \u001b[0mSITE\u001b[0m \u001b[0;34m=\u001b[0m \u001b[0mStackAPI\u001b[0m\u001b[0;34m(\u001b[0m\u001b[0;34m'stackoverflow'\u001b[0m\u001b[0;34m)\u001b[0m\u001b[0;34m\u001b[0m\u001b[0;34m\u001b[0m\u001b[0m\n\u001b[0;32m----> 3\u001b[0;31m \u001b[0mauth\u001b[0m \u001b[0;34m=\u001b[0m \u001b[0mSITE\u001b[0m\u001b[0;34m.\u001b[0m\u001b[0mfetch\u001b[0m\u001b[0;34m(\u001b[0m\u001b[0;34m'oauth'\u001b[0m\u001b[0;34m,\u001b[0m\u001b[0mclient_id\u001b[0m\u001b[0;34m=\u001b[0m\u001b[0;36m23307\u001b[0m\u001b[0;34m,\u001b[0m\u001b[0mscope\u001b[0m\u001b[0;34m=\u001b[0m\u001b[0;34m'no_expiry'\u001b[0m\u001b[0;34m,\u001b[0m\u001b[0mredirect_uri\u001b[0m\u001b[0;34m=\u001b[0m\u001b[0;34m'stackoverflow'\u001b[0m\u001b[0;34m)\u001b[0m\u001b[0;34m\u001b[0m\u001b[0;34m\u001b[0m\u001b[0m\n\u001b[0m",
            "\u001b[0;32m/usr/local/lib/python3.7/dist-packages/stackapi/stackapi.py\u001b[0m in \u001b[0;36mfetch\u001b[0;34m(self, endpoint, page, key, filter, **kwargs)\u001b[0m\n\u001b[1;32m    210\u001b[0m                 \u001b[0mcode\u001b[0m \u001b[0;34m=\u001b[0m \u001b[0mresponse\u001b[0m\u001b[0;34m[\u001b[0m\u001b[0;34m\"error_name\"\u001b[0m\u001b[0;34m]\u001b[0m\u001b[0;34m\u001b[0m\u001b[0;34m\u001b[0m\u001b[0m\n\u001b[1;32m    211\u001b[0m                 \u001b[0mmessage\u001b[0m \u001b[0;34m=\u001b[0m \u001b[0mresponse\u001b[0m\u001b[0;34m[\u001b[0m\u001b[0;34m\"error_message\"\u001b[0m\u001b[0;34m]\u001b[0m\u001b[0;34m\u001b[0m\u001b[0;34m\u001b[0m\u001b[0m\n\u001b[0;32m--> 212\u001b[0;31m                 \u001b[0;32mraise\u001b[0m \u001b[0mStackAPIError\u001b[0m\u001b[0;34m(\u001b[0m\u001b[0mself\u001b[0m\u001b[0;34m.\u001b[0m\u001b[0m_previous_call\u001b[0m\u001b[0;34m,\u001b[0m \u001b[0merror\u001b[0m\u001b[0;34m,\u001b[0m \u001b[0mcode\u001b[0m\u001b[0;34m,\u001b[0m \u001b[0mmessage\u001b[0m\u001b[0;34m)\u001b[0m\u001b[0;34m\u001b[0m\u001b[0;34m\u001b[0m\u001b[0m\n\u001b[0m\u001b[1;32m    213\u001b[0m             \u001b[0;32mexcept\u001b[0m \u001b[0mKeyError\u001b[0m\u001b[0;34m:\u001b[0m\u001b[0;34m\u001b[0m\u001b[0;34m\u001b[0m\u001b[0m\n\u001b[1;32m    214\u001b[0m                 \u001b[0;32mpass\u001b[0m  \u001b[0;31m# This means there is no error\u001b[0m\u001b[0;34m\u001b[0m\u001b[0;34m\u001b[0m\u001b[0m\n",
            "\u001b[0;31mStackAPIError\u001b[0m: ('https://api.stackexchange.com/2.2/oauth/?pagesize=100&page=1&filter=default&client_id=23307&scope=no_expiry&redirect_uri=stackoverflow&site=stackoverflow', 404, 'no_method', 'no method found with this name')"
          ]
        }
      ]
    },
    {
      "cell_type": "code",
      "source": [
        "import requests\n",
        "\n",
        "resp=requests.get(\"https://stackoverflow.com/oauth/client_id=23307&scope=no_expiry&redirect_uri=http://www.example.com/oauth2callback\")\n",
        "resp\n"
      ],
      "metadata": {
        "colab": {
          "base_uri": "https://localhost:8080/"
        },
        "id": "7RkN245LRyzI",
        "outputId": "570be146-93ea-43f1-d59c-763956456f06"
      },
      "execution_count": 5,
      "outputs": [
        {
          "output_type": "execute_result",
          "data": {
            "text/plain": [
              "<Response [404]>"
            ]
          },
          "metadata": {},
          "execution_count": 5
        }
      ]
    }
  ]
}